{
 "cells": [
  {
   "cell_type": "code",
   "execution_count": 1,
   "metadata": {},
   "outputs": [],
   "source": [
    "import pandas as pd\n",
    "import numpy as np"
   ]
  },
  {
   "cell_type": "code",
   "execution_count": 2,
   "metadata": {},
   "outputs": [],
   "source": [
    "def nat(file,month,days,fridays,saturdays,sundays):\n",
    "    \"\"\"\n",
    "    Takes 6 arguments: file destination, month name, number of days in the month, number of fridays\n",
    "    in the month, number of saturdays in the month, number of sundays in the month.\n",
    "    \"\"\"\n",
    "    nat = pd.read_csv(file,header=11,index_col='Location')\n",
    "    nat = nat.drop(['Facility','Status'],axis=1)\n",
    "    nat = nat.transpose()\n",
    "    nat['Total by time'] = nat.sum(axis=1)\n",
    "    nat['Average by time'] = np.nan\n",
    "    nat['Average by time'][0:3] = round((nat.iloc[0:3,12]/(days-(saturdays+sundays))),2)\n",
    "    nat['Average by time'][3:16] = round((nat.iloc[3:16,12]/days),2)\n",
    "    nat['Average by time'][16:18] = round((nat.iloc[16:18,12]/(days-(fridays+saturdays))),2)\n",
    "    nat['Average by time'][18] = round((nat.iloc[18,12]/days),2)\n",
    "    nat = nat.transpose()\n",
    "    nat['Average per space by time'] = np.nan\n",
    "    nat['Average per space by time'][0:12] = round((nat.iloc[0:12,18]/days),2)\n",
    "    nat.to_excel('nat_finished_{0}.xlsx'.format(month))"
   ]
  },
  {
   "cell_type": "code",
   "execution_count": null,
   "metadata": {},
   "outputs": [],
   "source": [
    "nat('nat.csv','february',29,4,5,4)"
   ]
  },
  {
   "cell_type": "code",
   "execution_count": null,
   "metadata": {},
   "outputs": [],
   "source": [
    "def ogg(file,month,days,saturdays,sundays):\n",
    "    \"\"\"\n",
    "    Takes 5 arguments: csv file destination, month name, number of days in the month, number of saturdays in the month, number of sundays in the month.\n",
    "    \"\"\"\n",
    "    ogg = pd.read_csv('ogg.csv',header=11,index_col='Location')\n",
    "    ogg = ogg.drop(['Facility','Status'],axis=1)\n",
    "    ogg = ogg.transpose()\n",
    "    \n",
    "    ogg['Total by time'] = ogg.sum(axis=1)\n",
    "    ogg['Average by time'] = np.nan\n",
    "    ogg['Average by time'][0:3] = round((ogg.iloc[0:3,4]/(days-(saturdays+sundays))),2)\n",
    "    ogg['Average by time'][3:16] = round((ogg.iloc[3:16,4]/days),2)\n",
    "    ogg['Average by time'][16] = round((ogg.iloc[16,4]/days),2)\n",
    "    \n",
    "    ogg = ogg.transpose()\n",
    "    ogg['Average per space by time'] = np.nan\n",
    "    ogg['Average per space by time'][:4] = round((ogg.iloc[:4,16]/29),2)\n",
    "    ogg.to_excel('ogg_finished_{0}.xlsx'.format(month))"
   ]
  },
  {
   "cell_type": "code",
   "execution_count": null,
   "metadata": {},
   "outputs": [],
   "source": [
    "ogg('ogg.csv','february',29,5,4)"
   ]
  },
  {
   "cell_type": "code",
   "execution_count": null,
   "metadata": {},
   "outputs": [],
   "source": [
    "def shell(file,month,days,fridays,saturdays,sundays):\n",
    "    \"\"\"\n",
    "    Takes 6 arguments: file destination, month name, number of days in the month, number of fridays\n",
    "    in the month, number of saturdays in the month, number of sundays in the month.\n",
    "    \"\"\"\n",
    "    shell = pd.read_csv(file,header=11,index_col='Location')\n",
    "    shell = shell.drop(['Facility','Status'],axis=1)\n",
    "    shell = shell.transpose()\n",
    "    shell['Total by time'] = shell.sum(axis=1)\n",
    "    shell['Average by time'] = np.nan\n",
    "    shell['Average by time'][0:2] = round((shell.iloc[0:2,5]/(days-(saturdays+sundays))),2)\n",
    "    shell['Average by time'][2:16] = round((shell.iloc[2:16,5]/days),2)\n",
    "    shell['Average by time'][16:18] = round((shell.iloc[16:18,5]/(days-(fridays+saturdays))),2)\n",
    "    shell['Average by time'][18] = round((shell.iloc[18,5]/days),2)\n",
    "    shell = shell.transpose()\n",
    "    shell['Average per space by time'] = np.nan\n",
    "    shell['Average per space by time'][0:5] = round((shell.iloc[0:5,18]/29),2)\n",
    "    shell.to_excel('shell_finished_{0}.xlsx'.format(month))"
   ]
  },
  {
   "cell_type": "code",
   "execution_count": null,
   "metadata": {},
   "outputs": [],
   "source": [
    "shell('shell.csv','february',29,4,5,4)"
   ]
  }
 ],
 "metadata": {
  "kernelspec": {
   "display_name": "Python 3",
   "language": "python",
   "name": "python3"
  },
  "language_info": {
   "codemirror_mode": {
    "name": "ipython",
    "version": 3
   },
   "file_extension": ".py",
   "mimetype": "text/x-python",
   "name": "python",
   "nbconvert_exporter": "python",
   "pygments_lexer": "ipython3",
   "version": "3.7.4"
  }
 },
 "nbformat": 4,
 "nbformat_minor": 2
}
